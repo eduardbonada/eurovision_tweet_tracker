{
 "cells": [
  {
   "cell_type": "markdown",
   "metadata": {},
   "source": [
    "# Evaluate the final ranking prediction versus the real results"
   ]
  },
  {
   "cell_type": "code",
   "execution_count": 1,
   "metadata": {
    "collapsed": false
   },
   "outputs": [],
   "source": [
    "import re\n",
    "import sqlite3\n",
    "import pandas as pd\n",
    "import numpy as np\n",
    "from textblob import TextBlob\n",
    "from collections import Counter\n",
    "from random import randint"
   ]
  },
  {
   "cell_type": "markdown",
   "metadata": {},
   "source": [
    "## Aux functions"
   ]
  },
  {
   "cell_type": "code",
   "execution_count": 2,
   "metadata": {
    "collapsed": false
   },
   "outputs": [],
   "source": [
    "def get_tweet_sentiment(tweet):\n",
    "    \"\"\"\n",
    "    Utility function to classify sentiment of passed tweet\n",
    "    using textblob's sentiment method\n",
    "    \"\"\"\n",
    "\n",
    "    # create TextBlob object of passed tweet text\n",
    "    analysis = TextBlob(clean_tweet(tweet['tweetText']))\n",
    "    \n",
    "    # set sentiment\n",
    "    if analysis.sentiment.polarity > 0:\n",
    "        return 'positive'\n",
    "    elif analysis.sentiment.polarity == 0:\n",
    "        return 'neutral'\n",
    "    else:\n",
    "        return 'negative'"
   ]
  },
  {
   "cell_type": "code",
   "execution_count": 3,
   "metadata": {
    "collapsed": true
   },
   "outputs": [],
   "source": [
    "def clean_tweet(tweet):\n",
    "    '''\n",
    "    Utility function to clean tweet text by removing links, special characters\n",
    "    using simple regex statements.\n",
    "    '''\n",
    "    return ' '.join(re.sub(\"(@[A-Za-z0-9]+)|([^0-9A-Za-z \\t])|(\\w+:\\/\\/\\S+)\", \" \", tweet).split())"
   ]
  },
  {
   "cell_type": "markdown",
   "metadata": {},
   "source": [
    "## Setup"
   ]
  },
  {
   "cell_type": "code",
   "execution_count": 4,
   "metadata": {
    "collapsed": true
   },
   "outputs": [],
   "source": [
    "# Setup sqlite\n",
    "sqlite_file = 'db_friday_and_final.db'\n",
    "\n",
    "# Connect to the database sqlite file\n",
    "connection = sqlite3.connect(sqlite_file)\n",
    "db = connection.cursor()"
   ]
  },
  {
   "cell_type": "code",
   "execution_count": 5,
   "metadata": {
    "collapsed": false
   },
   "outputs": [
    {
     "name": "stdout",
     "output_type": "stream",
     "text": [
      "26\n"
     ]
    }
   ],
   "source": [
    "# set country hashtags - semifinal 1\n",
    "all_hashtags = ['SWE', 'GEO', 'AUS', 'ALB', 'BEL', 'MNE', 'FIN', 'AZE', 'POR',\\\n",
    "                'POL', 'MDA', 'ISL', 'CZE', 'CYP', 'ARM', 'SLO', 'LAT', 'GRE',\\\n",
    "                'AUT', 'BLR', 'DEN', 'EST', 'MKD', 'HUN', 'IRL', 'ISR', 'LTU',\\\n",
    "                'NOR', 'ROM', 'SMR', 'SRB', 'SUI', 'NED', 'CRO', 'BUL', 'MLT',\\\n",
    "                'ITA', 'FRA', 'ESP', 'GBR', 'UKR', 'GER']\n",
    "\n",
    "hashtags_semi1 = ['SWE', 'GEO', 'AUS', 'ALB', 'BEL', 'MNE', 'FIN', 'AZE', 'POR', 'GRE',\\\n",
    "                    'POL', 'MDA', 'ISL', 'CZE', 'CYP', 'ARM', 'SLO', 'LAT']\n",
    "\n",
    "# set country hashtags - semifinal 2\n",
    "hashtags_semi2 = ['AUT', 'BLR', 'DEN', 'EST', 'MKD', 'HUN', 'IRL', 'ISR', 'LTU', 'MLT', \\\n",
    "                    'NOR', 'ROM', 'SMR', 'SRB', 'SUI', 'NED', 'CRO', 'BUL']\n",
    "\n",
    "# set country hashtags - final\n",
    "hashtags_final = ['ARM', 'AZE', 'ITA', 'MDA', 'POL', 'POR', 'UKR', 'AUS', 'BEL', 'CYP', 'FRA',\\\n",
    "                  'GER', 'GRE', 'ESP', 'GBR', 'SWE', 'BUL', 'BLR', 'CRO', 'HUN', 'DEN',\\\n",
    "                  'ISR', 'ROM', 'NOR', 'NED', 'AUT']\n",
    "\n",
    "hashtags = hashtags_final\n",
    "print(len(hashtags))"
   ]
  },
  {
   "cell_type": "markdown",
   "metadata": {},
   "source": [
    "## Count tweets and analyze sentiment"
   ]
  },
  {
   "cell_type": "code",
   "execution_count": 6,
   "metadata": {
    "collapsed": false
   },
   "outputs": [],
   "source": [
    "# read ALL tweets in english from db, evaluate sentiment, and count - SEMI 1\n",
    "all_sentiments = []\n",
    "for country in hashtags:\n",
    "\n",
    "    # get tweets from DB\n",
    "    country_tweets = pd.read_sql_query(\"SELECT * FROM TweetsRaw WHERE language='en' AND tweetText LIKE '%#{}%'\".format(country), connection)\n",
    "\n",
    "    # count number of sentiments\n",
    "    sentiments_count = Counter(country_tweets.apply(get_tweet_sentiment, axis=1))\n",
    "    \n",
    "    # append country to list\n",
    "    all_sentiments.append({'country': country, \\\n",
    "                           'positive': sentiments_count['positive'],\\\n",
    "                           'neutral': sentiments_count['neutral'],\\\n",
    "                           'negative': sentiments_count['negative']\n",
    "                          })"
   ]
  },
  {
   "cell_type": "code",
   "execution_count": 7,
   "metadata": {
    "collapsed": false
   },
   "outputs": [],
   "source": [
    "# read all tweets (to just count)\n",
    "all_tweet_counts = []\n",
    "for country in hashtags:\n",
    "\n",
    "    # get tweet count from DB\n",
    "    db.execute(\"SELECT COUNT(*) AS count FROM TweetsRaw WHERE tweetText LIKE '%#{}%'\".format(country))\n",
    "    country_tweet_count = db.fetchone()[0]\n",
    "    \n",
    "    # append country to list\n",
    "    all_tweet_counts.append({'country': country, \\\n",
    "                           'count': country_tweet_count\n",
    "                          })"
   ]
  },
  {
   "cell_type": "code",
   "execution_count": 8,
   "metadata": {
    "collapsed": false
   },
   "outputs": [],
   "source": [
    "# transform to pandas dataframe from sentiments list\n",
    "results = pd.DataFrame(all_sentiments)\n",
    "results = results.set_index(['country'])\n",
    "\n",
    "# add total tweet count\n",
    "results['tweets'] = [tc['count'] for tc in all_tweet_counts]\n",
    "\n",
    "# add percentages of features over the totals\n",
    "results['positive_perc'] = results['positive'] / results['positive'].sum()\n",
    "results['negative_perc'] = results['negative'] / results['negative'].sum()\n",
    "results['neutral_perc'] = results['neutral'] / results['neutral'].sum()\n",
    "results['tweets_perc'] = results['tweets'] / results['tweets'].sum()\n",
    "\n",
    "# create log features\n",
    "results['negative_log'] = np.log(1 + results['negative_perc'])\n",
    "results['neutral_log'] = np.log(1 + results['neutral_perc'])\n",
    "results['positive_log'] = np.log(1 + results['positive_perc'])\n",
    "results['tweets_log'] = np.log(1 + results['tweets_perc'])"
   ]
  },
  {
   "cell_type": "code",
   "execution_count": 9,
   "metadata": {
    "collapsed": true
   },
   "outputs": [],
   "source": [
    "# Apply model coeficients to data and compute \n",
    "features = ['negative_log', 'neutral_log', 'positive_log', 'tweets_log']\n",
    "model_coefs = np.array([-8.93416811e-03, -3.18005604e+01, 4.24127046e+00, 2.21510494e+01, 1.51818475e+01])[...,None]; # semis\n",
    "X = results[features].values\n",
    "X = np.append(np.ones(X.shape[0])[...,None] , X, axis=1)\n",
    "results['predicted_score'] = np.dot(X, model_coefs)"
   ]
  },
  {
   "cell_type": "code",
   "execution_count": 10,
   "metadata": {
    "collapsed": false
   },
   "outputs": [],
   "source": [
    "# Compute ranking\n",
    "ranking = results[['negative', 'neutral', 'positive', 'tweets', 'predicted_score']].sort_values(by = 'predicted_score', ascending = False)"
   ]
  },
  {
   "cell_type": "code",
   "execution_count": 11,
   "metadata": {
    "collapsed": false
   },
   "outputs": [],
   "source": [
    "# set real position - vote of the jury\n",
    "ranking.loc['POR', 'position_jury'] = 1\n",
    "ranking.loc['BUL', 'position_jury'] = 2\n",
    "ranking.loc['SWE', 'position_jury'] = 3\n",
    "ranking.loc['AUS', 'position_jury'] = 4\n",
    "ranking.loc['NED', 'position_jury'] = 5\n",
    "ranking.loc['NOR', 'position_jury'] = 6\n",
    "ranking.loc['ITA', 'position_jury'] = 7\n",
    "ranking.loc['MDA', 'position_jury'] = 8\n",
    "ranking.loc['BEL', 'position_jury'] = 9\n",
    "ranking.loc['GBR', 'position_jury'] = 10\n",
    "ranking.loc['AUT', 'position_jury'] = 11\n",
    "ranking.loc['AZE', 'position_jury'] = 12\n",
    "ranking.loc['DEN', 'position_jury'] = 13\n",
    "ranking.loc['ROM', 'position_jury'] = 14\n",
    "ranking.loc['ARM', 'position_jury'] = 15\n",
    "ranking.loc['BLR', 'position_jury'] = 16\n",
    "ranking.loc['HUN', 'position_jury'] = 17\n",
    "ranking.loc['GRE', 'position_jury'] = 18\n",
    "ranking.loc['FRA', 'position_jury'] = 19\n",
    "ranking.loc['CYP', 'position_jury'] = 20\n",
    "ranking.loc['ISR', 'position_jury'] = 21\n",
    "ranking.loc['CRO', 'position_jury'] = 22\n",
    "ranking.loc['POL', 'position_jury'] = 23\n",
    "ranking.loc['UKR', 'position_jury'] = 24\n",
    "ranking.loc['GER', 'position_jury'] = 25\n",
    "ranking.loc['ESP', 'position_jury'] = 26\n",
    "\n",
    "# set real position - public vote\n",
    "ranking.loc['POR', 'position_people'] = 1\n",
    "ranking.loc['BUL', 'position_people'] = 2\n",
    "ranking.loc['MDA', 'position_people'] = 3\n",
    "ranking.loc['BEL', 'position_people'] = 4\n",
    "ranking.loc['ROM', 'position_people'] = 5\n",
    "ranking.loc['ITA', 'position_people'] = 6\n",
    "ranking.loc['HUN', 'position_people'] = 7\n",
    "ranking.loc['SWE', 'position_people'] = 8\n",
    "ranking.loc['CRO', 'position_people'] = 9\n",
    "ranking.loc['FRA', 'position_people'] = 10\n",
    "ranking.loc['AZE', 'position_people'] = 11\n",
    "ranking.loc['POL', 'position_people'] = 12\n",
    "ranking.loc['BLR', 'position_people'] = 13\n",
    "ranking.loc['CYP', 'position_people'] = 14\n",
    "ranking.loc['NOR', 'position_people'] = 15\n",
    "ranking.loc['GRE', 'position_people'] = 16\n",
    "ranking.loc['UKR', 'position_people'] = 17\n",
    "ranking.loc['ARM', 'position_people'] = 18\n",
    "ranking.loc['NED', 'position_people'] = 19\n",
    "ranking.loc['GBR', 'position_people'] = 20\n",
    "ranking.loc['DEN', 'position_people'] = 21\n",
    "ranking.loc['ISR', 'position_people'] = 22\n",
    "ranking.loc['ESP', 'position_people'] = 23\n",
    "ranking.loc['GER', 'position_people'] = 24\n",
    "ranking.loc['AUS', 'position_people'] = 25\n",
    "ranking.loc['AUT', 'position_people'] = 26\n",
    "\n",
    "# set real position - all\n",
    "ranking.loc['POR', 'position'] = 1\n",
    "ranking.loc['BUL', 'position'] = 2\n",
    "ranking.loc['MDA', 'position'] = 3\n",
    "ranking.loc['BEL', 'position'] = 4\n",
    "ranking.loc['SWE', 'position'] = 5\n",
    "ranking.loc['ITA', 'position'] = 6\n",
    "ranking.loc['ROM', 'position'] = 7\n",
    "ranking.loc['HUN', 'position'] = 8\n",
    "ranking.loc['AUS', 'position'] = 9\n",
    "ranking.loc['NOR', 'position'] = 10\n",
    "ranking.loc['NED', 'position'] = 11\n",
    "ranking.loc['FRA', 'position'] = 12\n",
    "ranking.loc['CRO', 'position'] = 13\n",
    "ranking.loc['AZE', 'position'] = 14\n",
    "ranking.loc['GBR', 'position'] = 15\n",
    "ranking.loc['AUT', 'position'] = 16\n",
    "ranking.loc['BLR', 'position'] = 17\n",
    "ranking.loc['ARM', 'position'] = 18\n",
    "ranking.loc['GRE', 'position'] = 19\n",
    "ranking.loc['DEN', 'position'] = 20\n",
    "ranking.loc['CYP', 'position'] = 21\n",
    "ranking.loc['POL', 'position'] = 22\n",
    "ranking.loc['ISR', 'position'] = 23\n",
    "ranking.loc['UKR', 'position'] = 24\n",
    "ranking.loc['GER', 'position'] = 25\n",
    "ranking.loc['ESP', 'position'] = 26\n",
    "\n",
    "# set predicted position as a column\n",
    "ranking = ranking.reset_index()\n",
    "ranking['predicted_position'] = ranking.index + 1"
   ]
  },
  {
   "cell_type": "code",
   "execution_count": 12,
   "metadata": {
    "collapsed": false
   },
   "outputs": [
    {
     "name": "stdout",
     "output_type": "stream",
     "text": [
      "RMSE predicted - final:  7.716116998754072\n",
      "RMSE predicted - jury:   8.348191881617701\n",
      "RMSE predicted - people: 8.862192817720768\n"
     ]
    }
   ],
   "source": [
    "# compute ranking prediction errors\n",
    "print('RMSE predicted - final:  {}'.format(np.sqrt((1/ranking.shape[0])*np.sum(np.power(ranking['predicted_position'] - ranking['position'], 2))))) \n",
    "print('RMSE predicted - jury:   {}'.format(np.sqrt((1/ranking.shape[0])*np.sum(np.power(ranking['predicted_position'] - ranking['position_jury'], 2))))) \n",
    "print('RMSE predicted - people: {}'.format(np.sqrt((1/ranking.shape[0])*np.sum(np.power(ranking['predicted_position'] - ranking['position_people'], 2))))) "
   ]
  },
  {
   "cell_type": "code",
   "execution_count": 13,
   "metadata": {
    "collapsed": false
   },
   "outputs": [
    {
     "name": "stdout",
     "output_type": "stream",
     "text": [
      "Final Top-3 correct:   2\n",
      "Final Top-5 correct:   2\n",
      "Final Top-10 correct:  6\n",
      "\n",
      "Jury Top-3 correct:    1\n",
      "Jury Top-5 correct:    2\n",
      "Jury Top-10 correct:   7\n",
      "\n",
      "People Top-3 correct:  2\n",
      "People Top-5 correct:  2\n",
      "People Top-10 correct: 7\n",
      "\n",
      "Final Bottom-5 correct:  2\n",
      "Jury Bottom-5 correct:   2\n",
      "People Bottom-5 correct: 1\n"
     ]
    }
   ],
   "source": [
    "# count top-5 errors\n",
    "top_n = 3; print('Final Top-3 correct:   {}'.format(sum(ranking.head(top_n)['position'] <= top_n)))\n",
    "top_n = 5; print('Final Top-5 correct:   {}'.format(sum(ranking.head(top_n)['position'] <= top_n)))\n",
    "top_n = 10; print('Final Top-10 correct:  {}\\n'.format(sum(ranking.head(top_n)['position'] <= top_n)))\n",
    "\n",
    "top_n = 3; print('Jury Top-3 correct:    {}'.format(sum(ranking.head(top_n)['position_jury'] <= top_n)))\n",
    "top_n = 5; print('Jury Top-5 correct:    {}'.format(sum(ranking.head(top_n)['position_jury'] <= top_n)))\n",
    "top_n = 10; print('Jury Top-10 correct:   {}\\n'.format(sum(ranking.head(top_n)['position_jury'] <= top_n)))\n",
    "\n",
    "top_n = 3; print('People Top-3 correct:  {}'.format(sum(ranking.head(top_n)['position_people'] <= top_n)))\n",
    "top_n = 5; print('People Top-5 correct:  {}'.format(sum(ranking.head(top_n)['position_people'] <= top_n)))\n",
    "top_n = 10; print('People Top-10 correct: {}\\n'.format(sum(ranking.head(top_n)['position_people'] <= top_n)))\n",
    "\n",
    "bottom_n = 5;\n",
    "print('Final Bottom-5 correct:  {}'.format(sum(ranking.tail(bottom_n)['position'] <= top_n)))\n",
    "print('Jury Bottom-5 correct:   {}'.format(sum(ranking.tail(bottom_n)['position_jury'] <= top_n)))\n",
    "print('People Bottom-5 correct: {}'.format(sum(ranking.tail(bottom_n)['position_people'] <= top_n)))"
   ]
  },
  {
   "cell_type": "code",
   "execution_count": null,
   "metadata": {
    "collapsed": true
   },
   "outputs": [],
   "source": []
  }
 ],
 "metadata": {
  "anaconda-cloud": {},
  "kernelspec": {
   "display_name": "Python [conda root]",
   "language": "python",
   "name": "conda-root-py"
  },
  "language_info": {
   "codemirror_mode": {
    "name": "ipython",
    "version": 3
   },
   "file_extension": ".py",
   "mimetype": "text/x-python",
   "name": "python",
   "nbconvert_exporter": "python",
   "pygments_lexer": "ipython3",
   "version": "3.5.2"
  }
 },
 "nbformat": 4,
 "nbformat_minor": 1
}
