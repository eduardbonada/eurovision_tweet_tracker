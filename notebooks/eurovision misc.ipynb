{
 "cells": [
  {
   "cell_type": "markdown",
   "metadata": {},
   "source": [
    "# Testing libraries, filter by date, split DB, ..."
   ]
  },
  {
   "cell_type": "code",
   "execution_count": 170,
   "metadata": {},
   "outputs": [],
   "source": [
    "import re\n",
    "import numpy as np\n",
    "import sqlite3\n",
    "import pandas as pd\n",
    "from textblob import TextBlob\n",
    "from collections import Counter\n",
    "from random import randint\n",
    "from patsy import dmatrices"
   ]
  },
  {
   "cell_type": "markdown",
   "metadata": {},
   "source": [
    "## Aux functions"
   ]
  },
  {
   "cell_type": "code",
   "execution_count": 171,
   "metadata": {},
   "outputs": [],
   "source": [
    "def get_tweet_sentiment(tweet):\n",
    "    \"\"\"\n",
    "    Utility function to classify sentiment of passed tweet\n",
    "    using textblob's sentiment method\n",
    "    \"\"\"\n",
    "\n",
    "    # create TextBlob object of passed tweet text\n",
    "    analysis = TextBlob(clean_tweet(tweet['tweetText']))\n",
    "    \n",
    "    # set sentiment\n",
    "    if analysis.sentiment.polarity > 0:\n",
    "        return 'positive'\n",
    "    elif analysis.sentiment.polarity == 0:\n",
    "        return 'neutral'\n",
    "    else:\n",
    "        return 'negative'"
   ]
  },
  {
   "cell_type": "code",
   "execution_count": 172,
   "metadata": {
    "collapsed": true
   },
   "outputs": [],
   "source": [
    "def clean_tweet(tweet):\n",
    "    '''\n",
    "    Utility function to clean tweet text by removing links, special characters\n",
    "    using simple regex statements.\n",
    "    '''\n",
    "    return ' '.join(re.sub(\"(@[A-Za-z0-9]+)|([^0-9A-Za-z \\t])|(\\w+:\\/\\/\\S+)\", \" \", tweet).split())"
   ]
  },
  {
   "cell_type": "markdown",
   "metadata": {},
   "source": [
    "## Setup"
   ]
  },
  {
   "cell_type": "code",
   "execution_count": 173,
   "metadata": {
    "collapsed": true
   },
   "outputs": [],
   "source": [
    "# Setup sqlite\n",
    "sqlite_file = 'db_friday_and_final_and_post_final.db'\n",
    "\n",
    "# Connect to the database sqlite file\n",
    "connection = sqlite3.connect(sqlite_file)\n",
    "db = connection.cursor()"
   ]
  },
  {
   "cell_type": "code",
   "execution_count": 174,
   "metadata": {},
   "outputs": [
    {
     "name": "stdout",
     "output_type": "stream",
     "text": [
      "26\n"
     ]
    }
   ],
   "source": [
    "# set country hashtags - semifinal 1\n",
    "all_hashtags = ['SWE', 'GEO', 'AUS', 'ALB', 'BEL', 'MNE', 'FIN', 'AZE', 'POR',\\\n",
    "                'POL', 'MDA', 'ISL', 'CZE', 'CYP', 'ARM', 'SLO', 'LAT', 'GRE',\\\n",
    "                'AUT', 'BLR', 'DEN', 'EST', 'MKD', 'HUN', 'IRL', 'ISR', 'LTU',\\\n",
    "                'NOR', 'ROM', 'SMR', 'SRB', 'SUI', 'NED', 'CRO', 'BUL', 'MLT',\\\n",
    "                'ITA', 'FRA', 'ESP', 'GBR', 'UKR', 'GER']\n",
    "\n",
    "hashtags_semi1 = ['SWE', 'GEO', 'AUS', 'ALB', 'BEL', 'MNE', 'FIN', 'AZE', 'POR', 'GRE',\\\n",
    "                    'POL', 'MDA', 'ISL', 'CZE', 'CYP', 'ARM', 'SLO', 'LAT']\n",
    "\n",
    "# set country hashtags - semifinal 2\n",
    "hashtags_semi2 = ['AUT', 'BLR', 'DEN', 'EST', 'MKD', 'HUN', 'IRL', 'ISR', 'LTU', 'MLT', \\\n",
    "                    'NOR', 'ROM', 'SMR', 'SRB', 'SUI', 'NED', 'CRO', 'BUL']\n",
    "\n",
    "# set country hashtags - final\n",
    "hashtags_final = ['ARM', 'AZE', 'ITA', 'MDA', 'POL', 'POR', 'UKR', 'AUS', 'BEL', 'CYP', 'FRA',\\\n",
    "                  'GER', 'GRE', 'ESP', 'GBR', 'SWE', 'BUL', 'BLR', 'CRO', 'HUN', 'DEN',\\\n",
    "                  'ISR', 'ROM', 'NOR', 'NED', 'AUT']\n",
    "\n",
    "hashtags = hashtags_final\n",
    "print(len(hashtags))"
   ]
  },
  {
   "cell_type": "markdown",
   "metadata": {},
   "source": [
    "## Count tweets and analyze sentiment"
   ]
  },
  {
   "cell_type": "code",
   "execution_count": 160,
   "metadata": {},
   "outputs": [],
   "source": [
    "# read ALL tweets in english from db, evaluate sentiment, and count - SEMI 1\n",
    "all_sentiments = []\n",
    "for country in hashtags:\n",
    "\n",
    "    # get tweets from DB\n",
    "    country_tweets = pd.read_sql_query(\"SELECT * FROM TweetsRaw WHERE language='en' AND tweetText LIKE '%#{}%'\".format(country), connection)\n",
    "\n",
    "    # count number of sentiments\n",
    "    sentiments_count = Counter(country_tweets.apply(get_tweet_sentiment, axis=1))\n",
    "    \n",
    "    # append country to list\n",
    "    all_sentiments.append({'country': country, \\\n",
    "                           'positive': sentiments_count['positive'],\\\n",
    "                           'neutral': sentiments_count['neutral'],\\\n",
    "                           'negative': sentiments_count['negative']\n",
    "                          })"
   ]
  },
  {
   "cell_type": "code",
   "execution_count": 161,
   "metadata": {},
   "outputs": [],
   "source": [
    "# read all tweets (to just count)\n",
    "all_tweet_counts = []\n",
    "for country in hashtags:\n",
    "\n",
    "    # get tweet count from DB\n",
    "    db.execute(\"SELECT COUNT(*) AS count FROM TweetsRaw WHERE tweetText LIKE '%#{}%'\".format(country))\n",
    "    country_tweet_count = db.fetchone()[0]\n",
    "    \n",
    "    # append country to list\n",
    "    all_tweet_counts.append({'country': country, \\\n",
    "                           'count': country_tweet_count\n",
    "                          })"
   ]
  },
  {
   "cell_type": "code",
   "execution_count": 162,
   "metadata": {},
   "outputs": [],
   "source": [
    "# transform to pandas dataframe from sentiments list\n",
    "results = pd.DataFrame(all_sentiments)\n",
    "results = results.set_index(['country'])\n",
    "\n",
    "# add total tweet count\n",
    "results['tweets'] = [tc['count'] for tc in all_tweet_counts]\n",
    "\n",
    "# add percentages of features over the totals\n",
    "results['positive_perc'] = results['positive'] / results['positive'].sum()\n",
    "results['negative_perc'] = results['negative'] / results['negative'].sum()\n",
    "results['neutral_perc'] = results['neutral'] / results['neutral'].sum()\n",
    "results['tweets_perc'] = results['tweets'] / results['tweets'].sum()"
   ]
  },
  {
   "cell_type": "code",
   "execution_count": 163,
   "metadata": {},
   "outputs": [],
   "source": [
    "# add finalist 'column'\n",
    "results['finalist'] = 0\n",
    "\n",
    "results.loc['MDA','finalist'] = 1\n",
    "results.loc['AZE','finalist'] = 1\n",
    "results.loc['GRE','finalist'] = 1\n",
    "results.loc['SWE','finalist'] = 1\n",
    "results.loc['POR','finalist'] = 1\n",
    "results.loc['POL','finalist'] = 1\n",
    "results.loc['ARM','finalist'] = 1\n",
    "results.loc['AUS','finalist'] = 1\n",
    "results.loc['CYP','finalist'] = 1\n",
    "results.loc['BEL','finalist'] = 1\n",
    "results.loc['BUL','finalist'] = 1\n",
    "results.loc['BLR','finalist'] = 1\n",
    "results.loc['CRO','finalist'] = 1\n",
    "results.loc['HUN','finalist'] = 1\n",
    "results.loc['DEN','finalist'] = 1\n",
    "results.loc['ISR','finalist'] = 1\n",
    "results.loc['ROM','finalist'] = 1\n",
    "results.loc['NOR','finalist'] = 1\n",
    "results.loc['NED','finalist'] = 1\n",
    "results.loc['AUT','finalist'] = 1"
   ]
  },
  {
   "cell_type": "markdown",
   "metadata": {},
   "source": [
    "## Prediction model"
   ]
  },
  {
   "cell_type": "markdown",
   "metadata": {},
   "source": [
    "### Feature engineering"
   ]
  },
  {
   "cell_type": "code",
   "execution_count": 164,
   "metadata": {},
   "outputs": [],
   "source": [
    "# create normalized features\n",
    "results['negative_norm'] = (results['negative'] - results['negative'].mean() ) / results['negative'].std()\n",
    "results['neutral_norm'] = (results['neutral'] - results['neutral'].mean() ) / results['neutral'].std()\n",
    "results['positive_norm'] = (results['positive'] - results['positive'].mean() ) / results['positive'].std()\n",
    "results['tweets_norm'] = (results['tweets'] - results['tweets'].mean() ) / results['tweets'].std()\n",
    "#results['negative_norm'] = results['negative'] / results['negative'].sum()\n",
    "#results['neutral_norm'] = results['neutral'] / results['neutral'].sum()\n",
    "#results['positive_norm'] = results['positive'] / results['positive'].sum()\n",
    "#results['tweets_norm'] = results['tweets'] / results['tweets'].sum()\n",
    "\n",
    "# create log features\n",
    "results['negative_log'] = np.log(1 + results['negative_perc'])\n",
    "results['neutral_log'] = np.log(1 + results['neutral_perc'])\n",
    "results['positive_log'] = np.log(1 + results['positive_perc'])\n",
    "results['tweets_log'] = np.log(1 + results['tweets_perc'])"
   ]
  },
  {
   "cell_type": "markdown",
   "metadata": {},
   "source": [
    "### Train Model"
   ]
  },
  {
   "cell_type": "code",
   "execution_count": 165,
   "metadata": {},
   "outputs": [],
   "source": [
    "# set the features to analyze in the model\n",
    "features = ['negative_log', 'neutral_log', 'positive_log', 'tweets_log']\n",
    "#features = ['negative_norm', 'neutral_norm', 'positive_norm', 'tweets_norm']\n",
    "#features = ['negative_log', 'neutral_log', 'positive_log', 'tweets_log', \\\n",
    "#            'negative_norm', 'neutral_norm', 'positive_norm', 'tweets_norm']\n",
    "features_string = ' + '.join(features)"
   ]
  },
  {
   "cell_type": "code",
   "execution_count": 166,
   "metadata": {},
   "outputs": [],
   "source": [
    "# create input matrix and outut array\n",
    "y, X = dmatrices('finalist ~ {}'.format(features_string), results, return_type = 'dataframe')"
   ]
  },
  {
   "cell_type": "markdown",
   "metadata": {},
   "source": [
    "#### Logistic Regression Classifier"
   ]
  },
  {
   "cell_type": "code",
   "execution_count": 120,
   "metadata": {},
   "outputs": [
    {
     "name": "stdout",
     "output_type": "stream",
     "text": [
      "[[  2.00225595 -13.68615423  -1.30087278  19.44295255 -29.86079933]] 0.666666666667\n",
      "[[  1.92197337 -15.79325667 -11.45831349  17.70842657  -2.42236652]] 0.666666666667\n",
      "[[  1.18580858 -14.96209146  23.29771433  18.01985745 -15.40679042]] 0.666666666667\n",
      "[[  0.92656786  17.90184292 -13.34762117  24.50147278 -11.34042086]] 0.666666666667\n",
      "[[  0.73535477  17.44706402 -14.02218154  27.11448579  -7.58091813]] 0.666666666667\n",
      "[[  1.19065655   9.59207812 -10.21158958  32.60459561 -19.63154803]] 0.666666666667\n",
      "[[  2.14701723 -18.58397052  -5.0495187   14.60943125 -19.588053  ]] 0.666666666667\n",
      "[[  0.54090148  15.06104796  -9.3948507   33.59669082 -18.56251041]] 0.833333333333\n",
      "[[  1.08740464 -14.21707058  -5.03789484  26.93073594 -10.77212961]] 1.0\n",
      "[[  1.09717734 -17.66411646  -7.01294019  29.32029774 -10.69647895]] 1.0\n",
      "[[  0.90469799 -10.59151723  -6.43451218  28.91921942 -11.96475139]] 1.0\n",
      "[[  1.06083623 -12.81139198  -6.44569079  26.92311474 -10.65827882]] 1.0\n",
      "[[  1.02792096 -12.37246018  -6.21022379  26.40635596 -10.50544923]] 1.0\n",
      "[[  1.14112799 -15.54464109  -7.54751956  26.15379064  -9.72343829]] 1.0\n"
     ]
    }
   ],
   "source": [
    "import numpy as np\n",
    "from patsy import dmatrices\n",
    "from sklearn.cross_validation import train_test_split\n",
    "import sklearn.linear_model as lm\n",
    "\n",
    "best_score = 0\n",
    "for it in range(0,100):\n",
    "    # split\n",
    "    X_train, X_test, y_train, y_test = train_test_split(X, y, test_size=0.2, random_state=randint(0,1000))\n",
    "\n",
    "    # Logistic Regression model with sklearn\n",
    "    regularization = 0.001\n",
    "    model = lm.LogisticRegression(fit_intercept = False, C = 1/regularization)\n",
    "    classifier = model.fit(X_train, y_train.values.ravel())\n",
    "\n",
    "    # print results if best score so far\n",
    "    score = classifier.score(X_test, y_test)\n",
    "    if score >= best_score:\n",
    "        print(classifier.coef_, classifier.score(X_test, y_test))\n",
    "        best_score = score"
   ]
  },
  {
   "cell_type": "markdown",
   "metadata": {
    "collapsed": true
   },
   "source": [
    "#### Naive Bayes Classifier"
   ]
  },
  {
   "cell_type": "code",
   "execution_count": 121,
   "metadata": {},
   "outputs": [
    {
     "name": "stdout",
     "output_type": "stream",
     "text": [
      "0.5\n",
      "1.0\n",
      "1.0\n",
      "1.0\n",
      "1.0\n",
      "1.0\n",
      "1.0\n",
      "1.0\n",
      "1.0\n",
      "1.0\n",
      "1.0\n",
      "1.0\n",
      "1.0\n",
      "1.0\n",
      "1.0\n"
     ]
    }
   ],
   "source": [
    "import numpy as np\n",
    "from patsy import dmatrices\n",
    "from sklearn.cross_validation import train_test_split\n",
    "from sklearn.naive_bayes import GaussianNB\n",
    "\n",
    "best_score = 0\n",
    "for it in range(0,100):\n",
    "    # split\n",
    "    X_train, X_test, y_train, y_test = train_test_split(X, y, test_size=0.2, random_state=randint(0,1000))\n",
    "\n",
    "    # Create a Gaussian Classifier and train the model\n",
    "    model = GaussianNB()\n",
    "    classifier = model.fit(X_train, y_train.values.ravel())\n",
    "\n",
    "    # print results if best score so far\n",
    "    score = classifier.score(X_test, y_test)\n",
    "    if score >= best_score:\n",
    "        print(classifier.score(X_test, y_test))\n",
    "        best_score = score"
   ]
  },
  {
   "cell_type": "markdown",
   "metadata": {},
   "source": [
    "#### Decision Tree Classifier"
   ]
  },
  {
   "cell_type": "code",
   "execution_count": 122,
   "metadata": {},
   "outputs": [
    {
     "name": "stdout",
     "output_type": "stream",
     "text": [
      "0.5\n",
      "0.666666666667\n",
      "0.833333333333\n",
      "0.833333333333\n",
      "0.833333333333\n",
      "0.833333333333\n",
      "0.833333333333\n",
      "0.833333333333\n",
      "0.833333333333\n",
      "0.833333333333\n",
      "0.833333333333\n",
      "0.833333333333\n",
      "0.833333333333\n",
      "0.833333333333\n",
      "0.833333333333\n",
      "0.833333333333\n",
      "0.833333333333\n",
      "0.833333333333\n",
      "0.833333333333\n",
      "0.833333333333\n",
      "0.833333333333\n"
     ]
    }
   ],
   "source": [
    "import numpy as np\n",
    "from patsy import dmatrices\n",
    "from sklearn.cross_validation import train_test_split\n",
    "from sklearn import tree\n",
    "\n",
    "best_score = 0\n",
    "for it in range(0,100):\n",
    "    # split\n",
    "    X_train, X_test, y_train, y_test = train_test_split(X, y, test_size=0.2, random_state=randint(0,1000))\n",
    "\n",
    "    # Create a Gaussian Classifier and train the model\n",
    "    model = tree.DecisionTreeClassifier()\n",
    "    classifier = model.fit(X_train, y_train.values.ravel())\n",
    "\n",
    "    # print results if best score so far\n",
    "    score = classifier.score(X_test, y_test)\n",
    "    if score >= best_score:\n",
    "        print(classifier.score(X_test, y_test))\n",
    "        best_score = score"
   ]
  },
  {
   "cell_type": "markdown",
   "metadata": {},
   "source": [
    "### Tweet Timelines\n"
   ]
  },
  {
   "cell_type": "code",
   "execution_count": 167,
   "metadata": {},
   "outputs": [
    {
     "data": {
      "text/plain": [
       "<matplotlib.axes._subplots.AxesSubplot at 0x13306f400>"
      ]
     },
     "execution_count": 167,
     "metadata": {},
     "output_type": "execute_result"
    },
    {
     "data": {
      "image/png": "[encoded data removed]",
      "text/plain": [
       "<matplotlib.figure.Figure at 0x13306fb70>"
      ]
     },
     "metadata": {},
     "output_type": "display_data"
    }
   ],
   "source": [
    "%matplotlib inline\n",
    "import matplotlib as mpl\n",
    "import matplotlib.pyplot as plt\n",
    "import seaborn as sns\n",
    "\n",
    "tweets = pd.read_sql_query(\"SELECT * FROM TweetsRaw WHERE TweetText LIKE '%#ESP %'\", connection)\n",
    "\n",
    "tweets['createdAt'] = pd.to_datetime(tweets['createdAt'], format ='%a %b %d %H:%M:%S +0000 %Y')\n",
    "tweets.index = tweets['createdAt']\n",
    "tweets.resample('H').count()['id'].plot(kind='area')"
   ]
  },
  {
   "cell_type": "markdown",
   "metadata": {
    "collapsed": true
   },
   "source": [
    "### Filter tweets by date"
   ]
  },
  {
   "cell_type": "code",
   "execution_count": 175,
   "metadata": {},
   "outputs": [
    {
     "data": {
      "text/plain": [
       "<matplotlib.axes._subplots.AxesSubplot at 0x137989be0>"
      ]
     },
     "execution_count": 175,
     "metadata": {},
     "output_type": "execute_result"
    },
    {
     "data": {
      "image/png": "[encoded data removed]",
      "text/plain": [
       "<matplotlib.figure.Figure at 0x11c241be0>"
      ]
     },
     "metadata": {},
     "output_type": "display_data"
    }
   ],
   "source": [
    "# read from db\n",
    "tweets = pd.read_sql_query(\"SELECT * FROM TweetsRaw\", connection)\n",
    "\n",
    "# create a datetime version of createdAt\n",
    "tweets['createdAt_datetime'] = pd.to_datetime(tweets['createdAt'], format ='%a %b %d %H:%M:%S +0000 %Y')\n",
    "\n",
    "# filter tweets until 'Stop voting now at 23:47'\n",
    "tweets_only_final = tweets[tweets['createdAt_datetime'] < '2017-05-13 21:47'] # Stop voting now\n",
    "tweets_pre_final = tweets[tweets['createdAt_datetime'] < '2017-05-13 19:00']\n",
    "tweets_filtered = tweets_pre_final\n",
    "\n",
    "# plot\n",
    "tweets_filtered.index = tweets_filtered['createdAt_datetime']\n",
    "tweets_filtered.resample('H').count()['id'].plot(kind='area')"
   ]
  },
  {
   "cell_type": "code",
   "execution_count": 176,
   "metadata": {},
   "outputs": [],
   "source": [
    "# store to db\n",
    "\n",
    "sqlite_file_write = 'eurovision_filtered.db'\n",
    "connection_write = sqlite3.connect(sqlite_file_write)\n",
    "\n",
    "del tweets_filtered['createdAt_datetime']\n",
    "tweets_filtered = tweets_filtered.reset_index()\n",
    "del tweets_filtered['createdAt_datetime']\n",
    "\n",
    "tweets_filtered.to_sql(\"TweetsRaw\", connection_write, if_exists=\"replace\", index=False)"
   ]
  },
  {
   "cell_type": "code",
   "execution_count": null,
   "metadata": {
    "collapsed": true
   },
   "outputs": [],
   "source": []
  }
 ],
 "metadata": {
  "anaconda-cloud": {},
  "kernelspec": {
   "display_name": "Python 3",
   "language": "python",
   "name": "python3"
  },
  "language_info": {
   "codemirror_mode": {
    "name": "ipython",
    "version": 3
   },
   "file_extension": ".py",
   "mimetype": "text/x-python",
   "name": "python",
   "nbconvert_exporter": "python",
   "pygments_lexer": "ipython3",
   "version": "3.5.2"
  }
 },
 "nbformat": 4,
 "nbformat_minor": 1
}
