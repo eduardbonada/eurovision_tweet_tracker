{
 "cells": [
  {
   "cell_type": "markdown",
   "metadata": {},
   "source": [
    "## Model Prediction after 2018 results"
   ]
  },
  {
   "cell_type": "code",
   "execution_count": 27,
   "metadata": {},
   "outputs": [
    {
     "data": {
      "text/html": [
       "<style>.container { width:99% !important; }</style>"
      ],
      "text/plain": [
       "<IPython.core.display.HTML object>"
      ]
     },
     "metadata": {},
     "output_type": "display_data"
    }
   ],
   "source": [
    "from IPython.core.display import display, HTML\n",
    "display(HTML(\"<style>.container { width:99% !important; }</style>\"))"
   ]
  },
  {
   "cell_type": "code",
   "execution_count": 61,
   "metadata": {},
   "outputs": [],
   "source": [
    "import pandas as pd\n",
    "import numpy as np\n",
    "from patsy import dmatrices\n",
    "from sklearn.linear_model import LinearRegression, LogisticRegression\n",
    "import sklearn.metrics as metrics\n",
    "from sklearn.model_selection import train_test_split\n",
    "from sklearn.preprocessing import StandardScaler\n",
    "import matplotlib.pyplot as plt\n",
    "%matplotlib inline\n",
    "plt.style.use('seaborn-deep')"
   ]
  },
  {
   "cell_type": "code",
   "execution_count": 130,
   "metadata": {},
   "outputs": [],
   "source": [
    "data = pd.read_csv('results_2017_2018.csv')"
   ]
  },
  {
   "cell_type": "code",
   "execution_count": 131,
   "metadata": {},
   "outputs": [],
   "source": [
    "# compute total points\n",
    "data['points_total'] = data['points_televoting'] + data['points_jury']"
   ]
  },
  {
   "cell_type": "code",
   "execution_count": 132,
   "metadata": {},
   "outputs": [
    {
     "data": {
      "text/plain": [
       "1.0"
      ]
     },
     "execution_count": 132,
     "metadata": {},
     "output_type": "execute_result"
    }
   ],
   "source": [
    "# compute rank columns\n",
    "data['rank_total'] = data.groupby('round')['points_total'].rank(ascending=False)\n",
    "data['rank_jury'] = data.groupby('round')['points_jury'].rank(ascending=False)\n",
    "data['rank_televoting'] = data.groupby('round')['points_televoting'].rank(ascending=False)\n",
    "\n",
    "# check if points are set correctly (0 is correct) (there might be countries with rank_calc = X.5 in case of tie)\n",
    "sum(abs(data['rank_source'] - data['rank_total']))"
   ]
  },
  {
   "cell_type": "markdown",
   "metadata": {},
   "source": [
    "### Explore data"
   ]
  },
  {
   "cell_type": "code",
   "execution_count": 133,
   "metadata": {},
   "outputs": [
    {
     "data": {
      "text/plain": [
       "<matplotlib.axes._subplots.AxesSubplot at 0x7fe9ca1a2588>"
      ]
     },
     "execution_count": 133,
     "metadata": {},
     "output_type": "execute_result"
    },
    {
     "data": {
      "image/png": "[encoded data removed]",
      "text/plain": [
       "<Figure size 432x288 with 1 Axes>"
      ]
     },
     "metadata": {},
     "output_type": "display_data"
    }
   ],
   "source": [
    "# difference between ranks from jury and televoting\n",
    "data['rank_diff'] = data['rank_televoting'] - data['rank_jury']\n",
    "(data['rank_diff']).hist(bins=10)"
   ]
  },
  {
   "cell_type": "code",
   "execution_count": 134,
   "metadata": {},
   "outputs": [
    {
     "data": {
      "text/plain": [
       "<matplotlib.axes._subplots.AxesSubplot at 0x7fe9ca23d978>"
      ]
     },
     "execution_count": 134,
     "metadata": {},
     "output_type": "execute_result"
    },
    {
     "data": {
      "image/png": "[encoded data removed]",
      "text/plain": [
       "<Figure size 1080x360 with 1 Axes>"
      ]
     },
     "metadata": {},
     "output_type": "display_data"
    }
   ],
   "source": [
    "# which countries suffer more differences?\n",
    "data.groupby('country')['rank_diff'].agg('mean').sort_values(ascending=False).plot.bar(color='green', \n",
    "                                                                                       title='<===    Higher Jury     |     Higher Televoting    ===>', \n",
    "                                                                                       figsize=(15,5))\n"
   ]
  },
  {
   "cell_type": "code",
   "execution_count": 135,
   "metadata": {},
   "outputs": [
    {
     "data": {
      "text/plain": [
       "Text(0.5,1,'<=== Higher in semifinal | Higher in final ===>')"
      ]
     },
     "execution_count": 135,
     "metadata": {},
     "output_type": "execute_result"
    },
    {
     "data": {
      "image/png": "[encoded data removed]",
      "text/plain": [
       "<Figure size 432x288 with 1 Axes>"
      ]
     },
     "metadata": {},
     "output_type": "display_data"
    }
   ],
   "source": [
    "# compare jury votes/rank in semifinal vs final\n",
    "\n",
    "data_final = data[data['round']=='2018_final']\n",
    "data_semifinals = data[(data['round']=='2018_semi1') | (data['round']=='2018_semi2')]\n",
    "\n",
    "# join data\n",
    "data_merged = pd.merge(data_final, data_semifinals, left_on='country', right_on='country', how='inner', suffixes=('_f','_sf'))\n",
    "\n",
    "# plot histogram\n",
    "ax = (data_merged['rank_jury_f'] - data_merged['rank_jury_sf']).hist(label='JURY')\n",
    "#(data_merged['rank_televoting_f'] - data_merged['rank_televoting_sf']).hist(label='TELE', ax=ax)\n",
    "ax.legend()\n",
    "ax.set_title('<=== Higher in semifinal | Higher in final ===>')"
   ]
  },
  {
   "cell_type": "markdown",
   "metadata": {},
   "source": [
    "## Feature Engineering"
   ]
  },
  {
   "cell_type": "code",
   "execution_count": 138,
   "metadata": {},
   "outputs": [
    {
     "data": {
      "text/plain": [
       "round\n",
       "2017_final     9183\n",
       "2017_semi1     1057\n",
       "2017_semi2     6794\n",
       "2018_final    11207\n",
       "2018_semi1     8735\n",
       "2018_semi2     7402\n",
       "Name: positive, dtype: int64"
      ]
     },
     "execution_count": 138,
     "metadata": {},
     "output_type": "execute_result"
    }
   ],
   "source": [
    "#data.groupby('round')['positive'] / \n",
    "data.groupby('round')['positive'].agg('sum')\n"
   ]
  },
  {
   "cell_type": "code",
   "execution_count": null,
   "metadata": {},
   "outputs": [],
   "source": [
    "# add percentages of features over the totals\n",
    "data['positive_perc'] = data['positive'] / data['positive'].sum()\n",
    "data['negative_perc'] = data['negative'] / all_rounds_data['negative'].sum()\n",
    "data['neutral_perc'] = data['neutral'] / all_rounds_data['neutral'].sum()\n",
    "data['tweets_perc'] = data['tweets'] / all_rounds_data['tweets'].sum()\n",
    "\n",
    "# create log features\n",
    "all_rounds_data['negative_log'] = np.log(1 + all_rounds_data['negative'])\n",
    "all_rounds_data['neutral_log'] = np.log(1 + all_rounds_data['neutral'])\n",
    "all_rounds_data['positive_log'] = np.log(1 + all_rounds_data['positive'])\n",
    "all_rounds_data['tweets_log'] = np.log(1 + all_rounds_data['tweets'])\n",
    "\n",
    "# create label 'isTopN'\n",
    "all_rounds_data['isTop5'] = all_rounds_data.apply(lambda r: 1 if r['rank']<=5 else 0, axis=1)\n",
    "all_rounds_data['isTop10'] = all_rounds_data.apply(lambda r: 1 if r['rank']<=10 else 0, axis=1)"
   ]
  },
  {
   "cell_type": "code",
   "execution_count": 129,
   "metadata": {},
   "outputs": [
    {
     "data": {
      "text/html": [
       "<div>\n",
       "<style scoped>\n",
       "    .dataframe tbody tr th:only-of-type {\n",
       "        vertical-align: middle;\n",
       "    }\n",
       "\n",
       "    .dataframe tbody tr th {\n",
       "        vertical-align: top;\n",
       "    }\n",
       "\n",
       "    .dataframe thead th {\n",
       "        text-align: right;\n",
       "    }\n",
       "</style>\n",
       "<table border=\"1\" class=\"dataframe\">\n",
       "  <thead>\n",
       "    <tr style=\"text-align: right;\">\n",
       "      <th></th>\n",
       "      <th>round</th>\n",
       "      <th>country</th>\n",
       "      <th>rank_source</th>\n",
       "      <th>points_televoting</th>\n",
       "      <th>points_jury</th>\n",
       "      <th>tweets</th>\n",
       "      <th>tweets_positive</th>\n",
       "      <th>tweets_neutral</th>\n",
       "      <th>tweets_negative</th>\n",
       "      <th>points_total</th>\n",
       "      <th>rank_total</th>\n",
       "      <th>rank_jury</th>\n",
       "      <th>rank_televoting</th>\n",
       "      <th>rank_diff</th>\n",
       "    </tr>\n",
       "  </thead>\n",
       "  <tbody>\n",
       "    <tr>\n",
       "      <th>0</th>\n",
       "      <td>2017_final</td>\n",
       "      <td>POR</td>\n",
       "      <td>1</td>\n",
       "      <td>376</td>\n",
       "      <td>382</td>\n",
       "      <td>3377</td>\n",
       "      <td>833</td>\n",
       "      <td>138</td>\n",
       "      <td>786.0</td>\n",
       "      <td>758</td>\n",
       "      <td>1.0</td>\n",
       "      <td>1.0</td>\n",
       "      <td>1.0</td>\n",
       "      <td>0.0</td>\n",
       "    </tr>\n",
       "  </tbody>\n",
       "</table>\n",
       "</div>"
      ],
      "text/plain": [
       "        round country  rank_source  points_televoting  points_jury  tweets  \\\n",
       "0  2017_final     POR            1                376          382    3377   \n",
       "\n",
       "   tweets_positive tweets_neutral  tweets_negative  points_total  rank_total  \\\n",
       "0              833            138            786.0           758         1.0   \n",
       "\n",
       "   rank_jury  rank_televoting  rank_diff  \n",
       "0        1.0              1.0        0.0  "
      ]
     },
     "execution_count": 129,
     "metadata": {},
     "output_type": "execute_result"
    }
   ],
   "source": [
    "data.head(1)"
   ]
  },
  {
   "cell_type": "code",
   "execution_count": null,
   "metadata": {},
   "outputs": [],
   "source": []
  },
  {
   "cell_type": "code",
   "execution_count": null,
   "metadata": {},
   "outputs": [],
   "source": []
  }
 ],
 "metadata": {
  "kernelspec": {
   "display_name": "Python 3",
   "language": "python",
   "name": "python3"
  },
  "language_info": {
   "codemirror_mode": {
    "name": "ipython",
    "version": 3
   },
   "file_extension": ".py",
   "mimetype": "text/x-python",
   "name": "python",
   "nbconvert_exporter": "python",
   "pygments_lexer": "ipython3",
   "version": "3.5.2"
  }
 },
 "nbformat": 4,
 "nbformat_minor": 2
}
