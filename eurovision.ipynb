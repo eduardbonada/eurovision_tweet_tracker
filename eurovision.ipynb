{
 "cells": [
  {
   "cell_type": "code",
   "execution_count": 1,
   "metadata": {
    "collapsed": false
   },
   "outputs": [],
   "source": [
    "import re\n",
    "import sqlite3\n",
    "import pandas as pd\n",
    "from textblob import TextBlob\n",
    "from collections import Counter"
   ]
  },
  {
   "cell_type": "code",
   "execution_count": 2,
   "metadata": {
    "collapsed": false
   },
   "outputs": [],
   "source": [
    "def get_tweet_sentiment(tweet):\n",
    "    \"\"\"\n",
    "    Utility function to classify sentiment of passed tweet\n",
    "    using textblob's sentiment method\n",
    "    \"\"\"\n",
    "\n",
    "    # create TextBlob object of passed tweet text\n",
    "    analysis = TextBlob(clean_tweet(tweet['tweetText']))\n",
    "    \n",
    "    # set sentiment\n",
    "    if analysis.sentiment.polarity > 0:\n",
    "        return 'positive'\n",
    "    elif analysis.sentiment.polarity == 0:\n",
    "        return 'neutral'\n",
    "    else:\n",
    "        return 'negative'"
   ]
  },
  {
   "cell_type": "code",
   "execution_count": 3,
   "metadata": {
    "collapsed": true
   },
   "outputs": [],
   "source": [
    "def clean_tweet(tweet):\n",
    "    '''\n",
    "    Utility function to clean tweet text by removing links, special characters\n",
    "    using simple regex statements.\n",
    "    '''\n",
    "    return ' '.join(re.sub(\"(@[A-Za-z0-9]+)|([^0-9A-Za-z \\t])|(\\w+:\\/\\/\\S+)\", \" \", tweet).split())"
   ]
  },
  {
   "cell_type": "code",
   "execution_count": 4,
   "metadata": {
    "collapsed": true
   },
   "outputs": [],
   "source": [
    "# Setup sqlite\n",
    "sqlite_file = 'eurovision2.db'\n",
    "\n",
    "# Connect to the database sqlite file\n",
    "connection = sqlite3.connect(sqlite_file)\n",
    "db = connection.cursor()"
   ]
  },
  {
   "cell_type": "code",
   "execution_count": 7,
   "metadata": {
    "collapsed": true
   },
   "outputs": [],
   "source": [
    "countries_hashtags = ['SWE', 'GEO', 'AUS', 'ALB', 'BEL', 'MON', 'FIN', 'AZE', 'POR', 'GRE', 'POL', 'MOL', 'ISL', 'CZE', 'CYP', 'ARM', 'SLO', 'LAT']"
   ]
  },
  {
   "cell_type": "code",
   "execution_count": 8,
   "metadata": {
    "collapsed": false
   },
   "outputs": [],
   "source": [
    "# read ALL tweets from db\n",
    "all_sentiments = []\n",
    "for country in countries_hashtags:\n",
    "    country_tweets = pd.read_sql_query(\"SELECT * FROM TweetsRaw WHERE language='en' AND tweetText LIKE '%#{}%'\".format(country), connection)\n",
    "    all_sentiments.append({'name': country, 'sentiments': Counter(country_tweets.apply(get_tweet_sentiment, axis=1))})"
   ]
  },
  {
   "cell_type": "code",
   "execution_count": 9,
   "metadata": {
    "collapsed": false
   },
   "outputs": [
    {
     "data": {
      "text/plain": [
       "[{'name': 'SWE',\n",
       "  'sentiments': Counter({'negative': 14, 'neutral': 100, 'positive': 40})},\n",
       " {'name': 'GEO',\n",
       "  'sentiments': Counter({'negative': 9, 'neutral': 35, 'positive': 12})},\n",
       " {'name': 'AUS',\n",
       "  'sentiments': Counter({'negative': 21, 'neutral': 90, 'positive': 53})},\n",
       " {'name': 'ALB',\n",
       "  'sentiments': Counter({'negative': 4, 'neutral': 22, 'positive': 11})},\n",
       " {'name': 'BEL',\n",
       "  'sentiments': Counter({'negative': 13, 'neutral': 106, 'positive': 93})},\n",
       " {'name': 'MON',\n",
       "  'sentiments': Counter({'negative': 19, 'neutral': 85, 'positive': 86})},\n",
       " {'name': 'FIN',\n",
       "  'sentiments': Counter({'negative': 8, 'neutral': 79, 'positive': 57})},\n",
       " {'name': 'AZE',\n",
       "  'sentiments': Counter({'negative': 6, 'neutral': 71, 'positive': 31})},\n",
       " {'name': 'POR',\n",
       "  'sentiments': Counter({'negative': 30, 'neutral': 177, 'positive': 275})},\n",
       " {'name': 'GRE',\n",
       "  'sentiments': Counter({'negative': 9, 'neutral': 67, 'positive': 48})},\n",
       " {'name': 'POL',\n",
       "  'sentiments': Counter({'negative': 5, 'neutral': 77, 'positive': 50})},\n",
       " {'name': 'MOL',\n",
       "  'sentiments': Counter({'negative': 15, 'neutral': 65, 'positive': 62})},\n",
       " {'name': 'ISL',\n",
       "  'sentiments': Counter({'negative': 10, 'neutral': 25, 'positive': 23})},\n",
       " {'name': 'CZE',\n",
       "  'sentiments': Counter({'negative': 17, 'neutral': 65, 'positive': 82})},\n",
       " {'name': 'CYP',\n",
       "  'sentiments': Counter({'negative': 43, 'neutral': 198, 'positive': 87})},\n",
       " {'name': 'ARM',\n",
       "  'sentiments': Counter({'negative': 7, 'neutral': 71, 'positive': 52})},\n",
       " {'name': 'SLO',\n",
       "  'sentiments': Counter({'negative': 5, 'neutral': 38, 'positive': 21})},\n",
       " {'name': 'LAT',\n",
       "  'sentiments': Counter({'negative': 14, 'neutral': 91, 'positive': 48})}]"
      ]
     },
     "execution_count": 9,
     "metadata": {},
     "output_type": "execute_result"
    }
   ],
   "source": [
    "all_sentiments"
   ]
  },
  {
   "cell_type": "code",
   "execution_count": null,
   "metadata": {
    "collapsed": true
   },
   "outputs": [],
   "source": []
  }
 ],
 "metadata": {
  "anaconda-cloud": {},
  "kernelspec": {
   "display_name": "Python [conda root]",
   "language": "python",
   "name": "conda-root-py"
  },
  "language_info": {
   "codemirror_mode": {
    "name": "ipython",
    "version": 3
   },
   "file_extension": ".py",
   "mimetype": "text/x-python",
   "name": "python",
   "nbconvert_exporter": "python",
   "pygments_lexer": "ipython3",
   "version": "3.5.2"
  }
 },
 "nbformat": 4,
 "nbformat_minor": 1
}
