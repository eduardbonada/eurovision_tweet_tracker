{
 "cells": [
  {
   "cell_type": "code",
   "execution_count": 1,
   "metadata": {
    "collapsed": false
   },
   "outputs": [],
   "source": [
    "import re\n",
    "import sqlite3\n",
    "import pandas as pd\n",
    "from textblob import TextBlob\n",
    "from collections import Counter"
   ]
  },
  {
   "cell_type": "code",
   "execution_count": 2,
   "metadata": {
    "collapsed": false
   },
   "outputs": [],
   "source": [
    "def get_tweet_sentiment(tweet):\n",
    "    \"\"\"\n",
    "    Utility function to classify sentiment of passed tweet\n",
    "    using textblob's sentiment method\n",
    "    \"\"\"\n",
    "\n",
    "    # create TextBlob object of passed tweet text\n",
    "    analysis = TextBlob(clean_tweet(tweet['tweetText']))\n",
    "    \n",
    "    # set sentiment\n",
    "    if analysis.sentiment.polarity > 0:\n",
    "        return 'positive'\n",
    "    elif analysis.sentiment.polarity == 0:\n",
    "        return 'neutral'\n",
    "    else:\n",
    "        return 'negative'"
   ]
  },
  {
   "cell_type": "code",
   "execution_count": 3,
   "metadata": {
    "collapsed": true
   },
   "outputs": [],
   "source": [
    "def clean_tweet(tweet):\n",
    "    '''\n",
    "    Utility function to clean tweet text by removing links, special characters\n",
    "    using simple regex statements.\n",
    "    '''\n",
    "    return ' '.join(re.sub(\"(@[A-Za-z0-9]+)|([^0-9A-Za-z \\t])|(\\w+:\\/\\/\\S+)\", \" \", tweet).split())"
   ]
  },
  {
   "cell_type": "code",
   "execution_count": 4,
   "metadata": {
    "collapsed": true
   },
   "outputs": [],
   "source": [
    "# Setup sqlite\n",
    "sqlite_file = 'eurovision_semi1.db'\n",
    "\n",
    "# Connect to the database sqlite file\n",
    "connection = sqlite3.connect(sqlite_file)\n",
    "db = connection.cursor()"
   ]
  },
  {
   "cell_type": "code",
   "execution_count": 113,
   "metadata": {
    "collapsed": false
   },
   "outputs": [],
   "source": [
    "# set country hashtags - semifinal 1\n",
    "all_hashtags = ['SWE', 'GEO', 'AUS', 'ALB', 'BEL', 'MNE', 'FIN', 'AZE', 'POR',\\\n",
    "                'POL', 'MDA', 'ISL', 'CZE', 'CYP', 'ARM', 'SLO', 'LAT', 'GRE',\\\n",
    "                'AUT', 'BLR', 'DEN', 'EST', 'MKD', 'HUN', 'IRL', 'ISR', 'LTU',\\\n",
    "                'NOR', 'ROM', 'SMR', 'SRB', 'SUI', 'NED', 'CRO', 'BUL', 'MLT',\\\n",
    "                'ITA', 'FRA', 'ESP', 'GBR', 'UKR', 'GER']\n",
    "\n",
    "hashtags_semi1 = ['SWE', 'GEO', 'AUS', 'ALB', 'BEL', 'MNE', 'FIN', 'AZE', 'POR', 'GRE',\\\n",
    "                    'POL', 'MDA', 'ISL', 'CZE', 'CYP', 'ARM', 'SLO', 'LAT']\n",
    "\n",
    "# set country hashtags - semifinal 2\n",
    "hashtags_semi2 = ['AUT', 'BLR', 'DEN', 'EST', 'MKD', 'HUN', 'IRL', 'ISR', 'LTU', 'MLT', \\\n",
    "                    'NOR', 'ROM', 'SMR', 'SRB', 'SUI', 'NED', 'CRO', 'BUL']\n",
    "\n",
    "# set country hashtags - final\n",
    "hashtags_final = ['ARM', 'AZE', 'ITA', 'MDA', 'POL', 'POR', 'UKR', 'AUS', 'BEL', 'CYP', 'FRA',\\\n",
    "                  'GER', 'GRE', 'ESP', 'GBR', 'SWE', '???', '???', '???', '???', '???',\\\n",
    "                  '???', '???', '???', '???', '???']\n",
    "\n",
    "hashtags = hashtags_semi1"
   ]
  },
  {
   "cell_type": "code",
   "execution_count": 121,
   "metadata": {
    "collapsed": false
   },
   "outputs": [],
   "source": [
    "# read ALL tweets in english from db, evaluate sentiment, and count\n",
    "all_sentiments = []\n",
    "for country in hashtags:\n",
    "\n",
    "    # get tweets from DB\n",
    "    country_tweets = pd.read_sql_query(\"SELECT * FROM TweetsRaw WHERE language='en' AND tweetText LIKE '%#{}%'\".format(country), connection)\n",
    "\n",
    "    # count number of sentiments\n",
    "    sentiments_count = Counter(country_tweets.apply(get_tweet_sentiment, axis=1))\n",
    "    \n",
    "    # append country to list\n",
    "    all_sentiments.append({'country': country, \\\n",
    "                           'positive': sentiments_count['positive'],\\\n",
    "                           'neutral': sentiments_count['neutral'],\\\n",
    "                           'negative': sentiments_count['negative']\n",
    "                          })"
   ]
  },
  {
   "cell_type": "code",
   "execution_count": 122,
   "metadata": {
    "collapsed": false
   },
   "outputs": [],
   "source": [
    "# read all tweets (to just count)\n",
    "all_tweet_counts = []\n",
    "for country in hashtags:\n",
    "\n",
    "    # get tweet count from DB\n",
    "    db.execute(\"SELECT COUNT(*) AS count FROM TweetsRaw WHERE tweetText LIKE '%#{}%'\".format(country))\n",
    "    country_tweet_count = db.fetchone()[0]\n",
    "    \n",
    "    # append country to list\n",
    "    all_tweet_counts.append({'country': country, \\\n",
    "                           'count': country_tweet_count\n",
    "                          })"
   ]
  },
  {
   "cell_type": "code",
   "execution_count": 142,
   "metadata": {
    "collapsed": false
   },
   "outputs": [],
   "source": [
    "# transform to pandas dataframe and add total tweet count\n",
    "results = pd.DataFrame(all_sentiments)\n",
    "results = results.set_index(['country'])\n",
    "results['tweets'] = [tc['count'] for tc in all_tweet_counts]\n",
    "results['tweets_norm'] = results['tweets'] / results['tweets'].sum()"
   ]
  },
  {
   "cell_type": "code",
   "execution_count": 143,
   "metadata": {
    "collapsed": false
   },
   "outputs": [],
   "source": [
    "# add finalist 'column'\n",
    "results['finalist'] = False\n",
    "results.loc['MOL','finalist'] = True\n",
    "results.loc['AZE','finalist'] = True\n",
    "results.loc['GRE','finalist'] = True\n",
    "results.loc['SWE','finalist'] = True\n",
    "results.loc['POR','finalist'] = True\n",
    "results.loc['POL','finalist'] = True\n",
    "results.loc['ARM','finalist'] = True\n",
    "results.loc['AUS','finalist'] = True\n",
    "results.loc['CYP','finalist'] = True\n",
    "results.loc['BEL','finalist'] = True"
   ]
  },
  {
   "cell_type": "code",
   "execution_count": 148,
   "metadata": {
    "collapsed": false
   },
   "outputs": [],
   "source": [
    "# compute final scores\n",
    "results['score'] = results['tweets_norm'] * results['positive'] / (results['tweets_norm'] + results['positive'])"
   ]
  },
  {
   "cell_type": "code",
   "execution_count": 149,
   "metadata": {
    "collapsed": false
   },
   "outputs": [
    {
     "name": "stdout",
     "output_type": "stream",
     "text": [
      "Accuracy: 70%\n"
     ]
    },
    {
     "data": {
      "text/html": [
       "<div>\n",
       "<table border=\"1\" class=\"dataframe\">\n",
       "  <thead>\n",
       "    <tr style=\"text-align: right;\">\n",
       "      <th></th>\n",
       "      <th>negative</th>\n",
       "      <th>neutral</th>\n",
       "      <th>positive</th>\n",
       "      <th>tweets</th>\n",
       "      <th>tweets_norm</th>\n",
       "      <th>finalist</th>\n",
       "      <th>score</th>\n",
       "    </tr>\n",
       "    <tr>\n",
       "      <th>country</th>\n",
       "      <th></th>\n",
       "      <th></th>\n",
       "      <th></th>\n",
       "      <th></th>\n",
       "      <th></th>\n",
       "      <th></th>\n",
       "      <th></th>\n",
       "    </tr>\n",
       "  </thead>\n",
       "  <tbody>\n",
       "    <tr>\n",
       "      <th>POR</th>\n",
       "      <td>30.0</td>\n",
       "      <td>177.0</td>\n",
       "      <td>275.0</td>\n",
       "      <td>1265.0</td>\n",
       "      <td>0.262339</td>\n",
       "      <td>True</td>\n",
       "      <td>0.262089</td>\n",
       "    </tr>\n",
       "    <tr>\n",
       "      <th>CYP</th>\n",
       "      <td>43.0</td>\n",
       "      <td>198.0</td>\n",
       "      <td>87.0</td>\n",
       "      <td>542.0</td>\n",
       "      <td>0.112401</td>\n",
       "      <td>True</td>\n",
       "      <td>0.112256</td>\n",
       "    </tr>\n",
       "    <tr>\n",
       "      <th>BEL</th>\n",
       "      <td>13.0</td>\n",
       "      <td>106.0</td>\n",
       "      <td>93.0</td>\n",
       "      <td>347.0</td>\n",
       "      <td>0.071962</td>\n",
       "      <td>True</td>\n",
       "      <td>0.071906</td>\n",
       "    </tr>\n",
       "    <tr>\n",
       "      <th>POL</th>\n",
       "      <td>5.0</td>\n",
       "      <td>77.0</td>\n",
       "      <td>50.0</td>\n",
       "      <td>263.0</td>\n",
       "      <td>0.054542</td>\n",
       "      <td>True</td>\n",
       "      <td>0.054482</td>\n",
       "    </tr>\n",
       "    <tr>\n",
       "      <th>LAT</th>\n",
       "      <td>14.0</td>\n",
       "      <td>91.0</td>\n",
       "      <td>48.0</td>\n",
       "      <td>257.0</td>\n",
       "      <td>0.053297</td>\n",
       "      <td>False</td>\n",
       "      <td>0.053238</td>\n",
       "    </tr>\n",
       "    <tr>\n",
       "      <th>SWE</th>\n",
       "      <td>14.0</td>\n",
       "      <td>100.0</td>\n",
       "      <td>40.0</td>\n",
       "      <td>239.0</td>\n",
       "      <td>0.049564</td>\n",
       "      <td>True</td>\n",
       "      <td>0.049503</td>\n",
       "    </tr>\n",
       "    <tr>\n",
       "      <th>CZE</th>\n",
       "      <td>17.0</td>\n",
       "      <td>65.0</td>\n",
       "      <td>82.0</td>\n",
       "      <td>236.0</td>\n",
       "      <td>0.048942</td>\n",
       "      <td>False</td>\n",
       "      <td>0.048913</td>\n",
       "    </tr>\n",
       "    <tr>\n",
       "      <th>FIN</th>\n",
       "      <td>8.0</td>\n",
       "      <td>79.0</td>\n",
       "      <td>57.0</td>\n",
       "      <td>232.0</td>\n",
       "      <td>0.048113</td>\n",
       "      <td>False</td>\n",
       "      <td>0.048072</td>\n",
       "    </tr>\n",
       "    <tr>\n",
       "      <th>AUS</th>\n",
       "      <td>21.0</td>\n",
       "      <td>90.0</td>\n",
       "      <td>53.0</td>\n",
       "      <td>224.0</td>\n",
       "      <td>0.046454</td>\n",
       "      <td>True</td>\n",
       "      <td>0.046413</td>\n",
       "    </tr>\n",
       "    <tr>\n",
       "      <th>ARM</th>\n",
       "      <td>7.0</td>\n",
       "      <td>71.0</td>\n",
       "      <td>52.0</td>\n",
       "      <td>210.0</td>\n",
       "      <td>0.043550</td>\n",
       "      <td>True</td>\n",
       "      <td>0.043514</td>\n",
       "    </tr>\n",
       "  </tbody>\n",
       "</table>\n",
       "</div>"
      ],
      "text/plain": [
       "         negative  neutral  positive  tweets  tweets_norm finalist     score\n",
       "country                                                                     \n",
       "POR          30.0    177.0     275.0  1265.0     0.262339     True  0.262089\n",
       "CYP          43.0    198.0      87.0   542.0     0.112401     True  0.112256\n",
       "BEL          13.0    106.0      93.0   347.0     0.071962     True  0.071906\n",
       "POL           5.0     77.0      50.0   263.0     0.054542     True  0.054482\n",
       "LAT          14.0     91.0      48.0   257.0     0.053297    False  0.053238\n",
       "SWE          14.0    100.0      40.0   239.0     0.049564     True  0.049503\n",
       "CZE          17.0     65.0      82.0   236.0     0.048942    False  0.048913\n",
       "FIN           8.0     79.0      57.0   232.0     0.048113    False  0.048072\n",
       "AUS          21.0     90.0      53.0   224.0     0.046454     True  0.046413\n",
       "ARM           7.0     71.0      52.0   210.0     0.043550     True  0.043514"
      ]
     },
     "execution_count": 149,
     "metadata": {},
     "output_type": "execute_result"
    }
   ],
   "source": [
    "# Top-10\n",
    "print(\"Accuracy: {}%\".format(10*results.sort_values(by = 'score', ascending = False)[0:10]['finalist'].sum()))\n",
    "results.sort_values(by = 'tweets', ascending = False)[0:10]"
   ]
  },
  {
   "cell_type": "code",
   "execution_count": null,
   "metadata": {
    "collapsed": true
   },
   "outputs": [],
   "source": []
  }
 ],
 "metadata": {
  "anaconda-cloud": {},
  "kernelspec": {
   "display_name": "Python [conda root]",
   "language": "python",
   "name": "conda-root-py"
  },
  "language_info": {
   "codemirror_mode": {
    "name": "ipython",
    "version": 3
   },
   "file_extension": ".py",
   "mimetype": "text/x-python",
   "name": "python",
   "nbconvert_exporter": "python",
   "pygments_lexer": "ipython3",
   "version": "3.5.2"
  }
 },
 "nbformat": 4,
 "nbformat_minor": 1
}
