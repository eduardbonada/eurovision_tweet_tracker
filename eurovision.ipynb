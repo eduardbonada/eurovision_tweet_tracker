{
 "cells": [
  {
   "cell_type": "code",
   "execution_count": 1,
   "metadata": {
    "collapsed": false
   },
   "outputs": [],
   "source": [
    "import re\n",
    "import sqlite3\n",
    "import pandas as pd\n",
    "from textblob import TextBlob\n",
    "from collections import Counter"
   ]
  },
  {
   "cell_type": "code",
   "execution_count": 2,
   "metadata": {
    "collapsed": false
   },
   "outputs": [],
   "source": [
    "def get_tweet_sentiment(tweet):\n",
    "    \"\"\"\n",
    "    Utility function to classify sentiment of passed tweet\n",
    "    using textblob's sentiment method\n",
    "    \"\"\"\n",
    "\n",
    "    # create TextBlob object of passed tweet text\n",
    "    analysis = TextBlob(clean_tweet(tweet['tweetText']))\n",
    "    \n",
    "    # set sentiment\n",
    "    if analysis.sentiment.polarity > 0:\n",
    "        return 'positive'\n",
    "    elif analysis.sentiment.polarity == 0:\n",
    "        return 'neutral'\n",
    "    else:\n",
    "        return 'negative'"
   ]
  },
  {
   "cell_type": "code",
   "execution_count": 3,
   "metadata": {
    "collapsed": true
   },
   "outputs": [],
   "source": [
    "def clean_tweet(tweet):\n",
    "    '''\n",
    "    Utility function to clean tweet text by removing links, special characters\n",
    "    using simple regex statements.\n",
    "    '''\n",
    "    return ' '.join(re.sub(\"(@[A-Za-z0-9]+)|([^0-9A-Za-z \\t])|(\\w+:\\/\\/\\S+)\", \" \", tweet).split())"
   ]
  },
  {
   "cell_type": "code",
   "execution_count": 4,
   "metadata": {
    "collapsed": true
   },
   "outputs": [],
   "source": [
    "# Setup sqlite\n",
    "sqlite_file = 'eurovision_semi1.db'\n",
    "\n",
    "# Connect to the database sqlite file\n",
    "connection = sqlite3.connect(sqlite_file)\n",
    "db = connection.cursor()"
   ]
  },
  {
   "cell_type": "code",
   "execution_count": 289,
   "metadata": {
    "collapsed": false
   },
   "outputs": [],
   "source": [
    "# set country hashtags - semifinal 1\n",
    "all_hashtags = ['SWE', 'GEO', 'AUS', 'ALB', 'BEL', 'MNE', 'FIN', 'AZE', 'POR',\\\n",
    "                'POL', 'MDA', 'ISL', 'CZE', 'CYP', 'ARM', 'SLO', 'LAT', 'GRE',\\\n",
    "                'AUT', 'BLR', 'DEN', 'EST', 'MKD', 'HUN', 'IRL', 'ISR', 'LTU',\\\n",
    "                'NOR', 'ROM', 'SMR', 'SRB', 'SUI', 'NED', 'CRO', 'BUL', 'MLT',\\\n",
    "                'ITA', 'FRA', 'ESP', 'GBR', 'UKR', 'GER']\n",
    "\n",
    "hashtags_semi1 = ['SWE', 'GEO', 'AUS', 'ALB', 'BEL', 'MNE', 'FIN', 'AZE', 'POR', 'GRE',\\\n",
    "                    'POL', 'MDA', 'ISL', 'CZE', 'CYP', 'ARM', 'SLO', 'LAT']\n",
    "\n",
    "# set country hashtags - semifinal 2\n",
    "hashtags_semi2 = ['AUT', 'BLR', 'DEN', 'EST', 'MKD', 'HUN', 'IRL', 'ISR', 'LTU', 'MLT', \\\n",
    "                    'NOR', 'ROM', 'SMR', 'SRB', 'SUI', 'NED', 'CRO', 'BUL']\n",
    "\n",
    "# set country hashtags - final\n",
    "hashtags_final = ['ARM', 'AZE', 'ITA', 'MDA', 'POL', 'POR', 'UKR', 'AUS', 'BEL', 'CYP', 'FRA',\\\n",
    "                  'GER', 'GRE', 'ESP', 'GBR', 'SWE', '???', '???', '???', '???', '???',\\\n",
    "                  '???', '???', '???', '???', '???']\n",
    "\n",
    "hashtags = hashtags_semi1"
   ]
  },
  {
   "cell_type": "code",
   "execution_count": 290,
   "metadata": {
    "collapsed": false
   },
   "outputs": [],
   "source": [
    "# read ALL tweets in english from db, evaluate sentiment, and count\n",
    "all_sentiments = []\n",
    "for country in hashtags:\n",
    "\n",
    "    # get tweets from DB\n",
    "    country_tweets = pd.read_sql_query(\"SELECT * FROM TweetsRaw WHERE language='en' AND tweetText LIKE '%#{}%'\".format(country), connection)\n",
    "\n",
    "    # count number of sentiments\n",
    "    sentiments_count = Counter(country_tweets.apply(get_tweet_sentiment, axis=1))\n",
    "    \n",
    "    # append country to list\n",
    "    all_sentiments.append({'country': country, \\\n",
    "                           'positive': sentiments_count['positive'],\\\n",
    "                           'neutral': sentiments_count['neutral'],\\\n",
    "                           'negative': sentiments_count['negative']\n",
    "                          })"
   ]
  },
  {
   "cell_type": "code",
   "execution_count": 291,
   "metadata": {
    "collapsed": false
   },
   "outputs": [],
   "source": [
    "# read all tweets (to just count)\n",
    "all_tweet_counts = []\n",
    "for country in hashtags:\n",
    "\n",
    "    # get tweet count from DB\n",
    "    db.execute(\"SELECT COUNT(*) AS count FROM TweetsRaw WHERE tweetText LIKE '%#{}%'\".format(country))\n",
    "    country_tweet_count = db.fetchone()[0]\n",
    "    \n",
    "    # append country to list\n",
    "    all_tweet_counts.append({'country': country, \\\n",
    "                           'count': country_tweet_count\n",
    "                          })"
   ]
  },
  {
   "cell_type": "code",
   "execution_count": 292,
   "metadata": {
    "collapsed": false
   },
   "outputs": [],
   "source": [
    "# transform to pandas dataframe and add total tweet count\n",
    "results = pd.DataFrame(all_sentiments)\n",
    "results = results.set_index(['country'])\n",
    "results['tweets'] = [tc['count'] for tc in all_tweet_counts]\n",
    "results['tweets_norm'] = results['tweets'] / results['tweets'].sum()"
   ]
  },
  {
   "cell_type": "code",
   "execution_count": 293,
   "metadata": {
    "collapsed": false
   },
   "outputs": [],
   "source": [
    "# add finalist 'column'\n",
    "results['finalist'] = 0\n",
    "results.loc['MDA','finalist'] = 1\n",
    "results.loc['AZE','finalist'] = 1\n",
    "results.loc['GRE','finalist'] = 1\n",
    "results.loc['SWE','finalist'] = 1\n",
    "results.loc['POR','finalist'] = 1\n",
    "results.loc['POL','finalist'] = 1\n",
    "results.loc['ARM','finalist'] = 1\n",
    "results.loc['AUS','finalist'] = 1\n",
    "results.loc['CYP','finalist'] = 1\n",
    "results.loc['BEL','finalist'] = 1"
   ]
  },
  {
   "cell_type": "code",
   "execution_count": 294,
   "metadata": {
    "collapsed": false
   },
   "outputs": [],
   "source": [
    "# compute final scores\n",
    "results['score'] = results['tweets_norm'] * results['positive'] / (results['tweets_norm'] + results['positive'])"
   ]
  },
  {
   "cell_type": "code",
   "execution_count": 295,
   "metadata": {
    "collapsed": false
   },
   "outputs": [
    {
     "name": "stdout",
     "output_type": "stream",
     "text": [
      "Accuracy: 70%\n"
     ]
    },
    {
     "data": {
      "text/html": [
       "<div>\n",
       "<table border=\"1\" class=\"dataframe\">\n",
       "  <thead>\n",
       "    <tr style=\"text-align: right;\">\n",
       "      <th></th>\n",
       "      <th>negative</th>\n",
       "      <th>neutral</th>\n",
       "      <th>positive</th>\n",
       "      <th>tweets</th>\n",
       "      <th>tweets_norm</th>\n",
       "      <th>finalist</th>\n",
       "      <th>score</th>\n",
       "    </tr>\n",
       "    <tr>\n",
       "      <th>country</th>\n",
       "      <th></th>\n",
       "      <th></th>\n",
       "      <th></th>\n",
       "      <th></th>\n",
       "      <th></th>\n",
       "      <th></th>\n",
       "      <th></th>\n",
       "    </tr>\n",
       "  </thead>\n",
       "  <tbody>\n",
       "    <tr>\n",
       "      <th>POR</th>\n",
       "      <td>30</td>\n",
       "      <td>177</td>\n",
       "      <td>275</td>\n",
       "      <td>1265</td>\n",
       "      <td>0.262339</td>\n",
       "      <td>1</td>\n",
       "      <td>0.262089</td>\n",
       "    </tr>\n",
       "    <tr>\n",
       "      <th>CYP</th>\n",
       "      <td>43</td>\n",
       "      <td>198</td>\n",
       "      <td>87</td>\n",
       "      <td>542</td>\n",
       "      <td>0.112401</td>\n",
       "      <td>1</td>\n",
       "      <td>0.112256</td>\n",
       "    </tr>\n",
       "    <tr>\n",
       "      <th>BEL</th>\n",
       "      <td>13</td>\n",
       "      <td>106</td>\n",
       "      <td>93</td>\n",
       "      <td>347</td>\n",
       "      <td>0.071962</td>\n",
       "      <td>1</td>\n",
       "      <td>0.071906</td>\n",
       "    </tr>\n",
       "    <tr>\n",
       "      <th>POL</th>\n",
       "      <td>5</td>\n",
       "      <td>77</td>\n",
       "      <td>50</td>\n",
       "      <td>263</td>\n",
       "      <td>0.054542</td>\n",
       "      <td>1</td>\n",
       "      <td>0.054482</td>\n",
       "    </tr>\n",
       "    <tr>\n",
       "      <th>LAT</th>\n",
       "      <td>14</td>\n",
       "      <td>91</td>\n",
       "      <td>48</td>\n",
       "      <td>257</td>\n",
       "      <td>0.053297</td>\n",
       "      <td>0</td>\n",
       "      <td>0.053238</td>\n",
       "    </tr>\n",
       "    <tr>\n",
       "      <th>SWE</th>\n",
       "      <td>14</td>\n",
       "      <td>100</td>\n",
       "      <td>40</td>\n",
       "      <td>239</td>\n",
       "      <td>0.049564</td>\n",
       "      <td>1</td>\n",
       "      <td>0.049503</td>\n",
       "    </tr>\n",
       "    <tr>\n",
       "      <th>CZE</th>\n",
       "      <td>17</td>\n",
       "      <td>65</td>\n",
       "      <td>82</td>\n",
       "      <td>236</td>\n",
       "      <td>0.048942</td>\n",
       "      <td>0</td>\n",
       "      <td>0.048913</td>\n",
       "    </tr>\n",
       "    <tr>\n",
       "      <th>FIN</th>\n",
       "      <td>8</td>\n",
       "      <td>79</td>\n",
       "      <td>57</td>\n",
       "      <td>232</td>\n",
       "      <td>0.048113</td>\n",
       "      <td>0</td>\n",
       "      <td>0.048072</td>\n",
       "    </tr>\n",
       "    <tr>\n",
       "      <th>AUS</th>\n",
       "      <td>21</td>\n",
       "      <td>90</td>\n",
       "      <td>53</td>\n",
       "      <td>224</td>\n",
       "      <td>0.046454</td>\n",
       "      <td>1</td>\n",
       "      <td>0.046413</td>\n",
       "    </tr>\n",
       "    <tr>\n",
       "      <th>ARM</th>\n",
       "      <td>7</td>\n",
       "      <td>71</td>\n",
       "      <td>52</td>\n",
       "      <td>210</td>\n",
       "      <td>0.043550</td>\n",
       "      <td>1</td>\n",
       "      <td>0.043514</td>\n",
       "    </tr>\n",
       "    <tr>\n",
       "      <th>AZE</th>\n",
       "      <td>6</td>\n",
       "      <td>71</td>\n",
       "      <td>31</td>\n",
       "      <td>202</td>\n",
       "      <td>0.041891</td>\n",
       "      <td>1</td>\n",
       "      <td>0.041835</td>\n",
       "    </tr>\n",
       "    <tr>\n",
       "      <th>GRE</th>\n",
       "      <td>9</td>\n",
       "      <td>67</td>\n",
       "      <td>48</td>\n",
       "      <td>201</td>\n",
       "      <td>0.041684</td>\n",
       "      <td>1</td>\n",
       "      <td>0.041648</td>\n",
       "    </tr>\n",
       "    <tr>\n",
       "      <th>MNE</th>\n",
       "      <td>8</td>\n",
       "      <td>34</td>\n",
       "      <td>39</td>\n",
       "      <td>143</td>\n",
       "      <td>0.029656</td>\n",
       "      <td>0</td>\n",
       "      <td>0.029633</td>\n",
       "    </tr>\n",
       "    <tr>\n",
       "      <th>MDA</th>\n",
       "      <td>23</td>\n",
       "      <td>38</td>\n",
       "      <td>35</td>\n",
       "      <td>134</td>\n",
       "      <td>0.027789</td>\n",
       "      <td>1</td>\n",
       "      <td>0.027767</td>\n",
       "    </tr>\n",
       "    <tr>\n",
       "      <th>SLO</th>\n",
       "      <td>5</td>\n",
       "      <td>38</td>\n",
       "      <td>21</td>\n",
       "      <td>94</td>\n",
       "      <td>0.019494</td>\n",
       "      <td>0</td>\n",
       "      <td>0.019476</td>\n",
       "    </tr>\n",
       "    <tr>\n",
       "      <th>GEO</th>\n",
       "      <td>9</td>\n",
       "      <td>35</td>\n",
       "      <td>12</td>\n",
       "      <td>86</td>\n",
       "      <td>0.017835</td>\n",
       "      <td>0</td>\n",
       "      <td>0.017808</td>\n",
       "    </tr>\n",
       "    <tr>\n",
       "      <th>ISL</th>\n",
       "      <td>10</td>\n",
       "      <td>25</td>\n",
       "      <td>23</td>\n",
       "      <td>77</td>\n",
       "      <td>0.015968</td>\n",
       "      <td>0</td>\n",
       "      <td>0.015957</td>\n",
       "    </tr>\n",
       "    <tr>\n",
       "      <th>ALB</th>\n",
       "      <td>4</td>\n",
       "      <td>22</td>\n",
       "      <td>11</td>\n",
       "      <td>70</td>\n",
       "      <td>0.014517</td>\n",
       "      <td>0</td>\n",
       "      <td>0.014498</td>\n",
       "    </tr>\n",
       "  </tbody>\n",
       "</table>\n",
       "</div>"
      ],
      "text/plain": [
       "         negative  neutral  positive  tweets  tweets_norm  finalist     score\n",
       "country                                                                      \n",
       "POR            30      177       275    1265     0.262339         1  0.262089\n",
       "CYP            43      198        87     542     0.112401         1  0.112256\n",
       "BEL            13      106        93     347     0.071962         1  0.071906\n",
       "POL             5       77        50     263     0.054542         1  0.054482\n",
       "LAT            14       91        48     257     0.053297         0  0.053238\n",
       "SWE            14      100        40     239     0.049564         1  0.049503\n",
       "CZE            17       65        82     236     0.048942         0  0.048913\n",
       "FIN             8       79        57     232     0.048113         0  0.048072\n",
       "AUS            21       90        53     224     0.046454         1  0.046413\n",
       "ARM             7       71        52     210     0.043550         1  0.043514\n",
       "AZE             6       71        31     202     0.041891         1  0.041835\n",
       "GRE             9       67        48     201     0.041684         1  0.041648\n",
       "MNE             8       34        39     143     0.029656         0  0.029633\n",
       "MDA            23       38        35     134     0.027789         1  0.027767\n",
       "SLO             5       38        21      94     0.019494         0  0.019476\n",
       "GEO             9       35        12      86     0.017835         0  0.017808\n",
       "ISL            10       25        23      77     0.015968         0  0.015957\n",
       "ALB             4       22        11      70     0.014517         0  0.014498"
      ]
     },
     "execution_count": 295,
     "metadata": {},
     "output_type": "execute_result"
    }
   ],
   "source": [
    "# Top-10\n",
    "print(\"Accuracy: {}%\".format(10*results.sort_values(by = 'score', ascending = False)[0:10]['finalist'].sum()))\n",
    "results.sort_values(by = 'tweets', ascending = False)"
   ]
  },
  {
   "cell_type": "markdown",
   "metadata": {},
   "source": [
    "### Logit model"
   ]
  },
  {
   "cell_type": "code",
   "execution_count": 296,
   "metadata": {
    "collapsed": true
   },
   "outputs": [],
   "source": [
    "import numpy as np\n",
    "from patsy import dmatrices\n",
    "from sklearn.linear_model import LogisticRegression\n",
    "from sklearn.metrics import r2_score"
   ]
  },
  {
   "cell_type": "code",
   "execution_count": 297,
   "metadata": {
    "collapsed": false
   },
   "outputs": [],
   "source": [
    "# create log features\n",
    "results['negative_log'] = np.log(results['negative'])\n",
    "results['neutral_log'] = np.log(results['neutral'])\n",
    "results['positive_log'] = np.log(results['positive'])\n",
    "results['tweets_log'] = np.log(results['tweets'])"
   ]
  },
  {
   "cell_type": "code",
   "execution_count": 304,
   "metadata": {
    "collapsed": false
   },
   "outputs": [],
   "source": [
    "y, X = dmatrices('finalist ~ negative_log + neutral_log + positive_log + tweets_log', results, return_type = 'dataframe')"
   ]
  },
  {
   "cell_type": "code",
   "execution_count": 305,
   "metadata": {
    "collapsed": false
   },
   "outputs": [
    {
     "data": {
      "text/plain": [
       "array([[-22.84224465,   0.82679824,  -0.34317562,  -2.82925343,\n",
       "          6.32468189]])"
      ]
     },
     "execution_count": 305,
     "metadata": {},
     "output_type": "execute_result"
    }
   ],
   "source": [
    "# with sklearn\n",
    "model = LogisticRegression(fit_intercept = False, C = 1e9)\n",
    "model.fit(X, y.values.ravel())\n",
    "model.coef_"
   ]
  },
  {
   "cell_type": "code",
   "execution_count": 306,
   "metadata": {
    "collapsed": false
   },
   "outputs": [
    {
     "data": {
      "text/plain": [
       "-0.168831168831169"
      ]
     },
     "execution_count": 306,
     "metadata": {},
     "output_type": "execute_result"
    }
   ],
   "source": [
    "# predict\n",
    "predictions = model.predict(X)\n",
    "\n",
    "# evaluation\n",
    "finalists = results['finalist'].values\n",
    "r2_score(predictions, finalists)"
   ]
  },
  {
   "cell_type": "code",
   "execution_count": null,
   "metadata": {
    "collapsed": true
   },
   "outputs": [],
   "source": []
  }
 ],
 "metadata": {
  "anaconda-cloud": {},
  "kernelspec": {
   "display_name": "Python [conda root]",
   "language": "python",
   "name": "conda-root-py"
  },
  "language_info": {
   "codemirror_mode": {
    "name": "ipython",
    "version": 3
   },
   "file_extension": ".py",
   "mimetype": "text/x-python",
   "name": "python",
   "nbconvert_exporter": "python",
   "pygments_lexer": "ipython3",
   "version": "3.5.2"
  }
 },
 "nbformat": 4,
 "nbformat_minor": 1
}
